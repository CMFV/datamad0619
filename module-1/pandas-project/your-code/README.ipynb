{
 "cells": [
  {
   "cell_type": "markdown",
   "metadata": {},
   "source": [
    "# PROYECTO SHARK ATTACK"
   ]
  },
  {
   "cell_type": "markdown",
   "metadata": {},
   "source": [
    "Este proyecto trata de comprobar si una hipótesis a cerca de ataques de tiburones es cierta o no. Vamos a utilizar una base de datos en bruto sobre ataques de tiburones. Para poder analizar los datos tendremos que limpiar la base de datos previamente."
   ]
  },
  {
   "cell_type": "markdown",
   "metadata": {},
   "source": [
    "## HIPÓTESIS:\n",
    "\n",
    "Mediante el análisis de la base de datos vamos a intentar comprobar la siguiente hipótesis:\n",
    "### Las mayores muertes producidas por a ataques de tiburones, son por tiburones blancos a personas haciendo actividades de surf. \n",
    "\n",
    "En la carpeta del proyecto se encuentran 3 documentos: \n",
    "\n",
    "- *sharks-attack-data-cleaning.ipynb* --> Un Jupyter notebook donde he limpiado la base de datos inicial.\n",
    "- *clean_sharks_attack.csv* --> La base de datos en formato csv ya limpia para poder analizarla.\n",
    "- *Shark-Analysis.ipynb* --> Un Jupyter notebook con el análisis de los datos para comprobar la hipótesis.\n",
    "\n",
    "Para limpiar la base de datos hemos tenido en cuenta 3 columnas, que son las que afectan a nuestro análisis: ***Species***,  ***Fatal (Y/N)*** y  ***Activity***.\n",
    "\n",
    "Para comprobar la hipótesis vamos a hacer un análisis tanto en términos absolutos como en términos relativos y así porder sacar la actividad más peligrosa junto con el tiburón más asesino.\n",
    "\n"
   ]
  },
  {
   "cell_type": "code",
   "execution_count": null,
   "metadata": {},
   "outputs": [],
   "source": []
  }
 ],
 "metadata": {
  "kernelspec": {
   "display_name": "Python 3",
   "language": "python",
   "name": "python3"
  },
  "language_info": {
   "codemirror_mode": {
    "name": "ipython",
    "version": 3
   },
   "file_extension": ".py",
   "mimetype": "text/x-python",
   "name": "python",
   "nbconvert_exporter": "python",
   "pygments_lexer": "ipython3",
   "version": "3.7.3"
  }
 },
 "nbformat": 4,
 "nbformat_minor": 2
}
